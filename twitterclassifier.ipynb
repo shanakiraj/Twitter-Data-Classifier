{
 "cells": [
  {
   "cell_type": "code",
   "execution_count": 1,
   "id": "e115a95e",
   "metadata": {
    "_cell_guid": "b1076dfc-b9ad-4769-8c92-a6c4dae69d19",
    "_uuid": "8f2839f25d086af736a60e9eeb907d3b93b6e0e5",
    "execution": {
     "iopub.execute_input": "2023-04-17T00:13:53.571143Z",
     "iopub.status.busy": "2023-04-17T00:13:53.570704Z",
     "iopub.status.idle": "2023-04-17T00:13:53.589194Z",
     "shell.execute_reply": "2023-04-17T00:13:53.587730Z"
    },
    "papermill": {
     "duration": 0.02905,
     "end_time": "2023-04-17T00:13:53.592346",
     "exception": false,
     "start_time": "2023-04-17T00:13:53.563296",
     "status": "completed"
    },
    "tags": []
   },
   "outputs": [
    {
     "name": "stdout",
     "output_type": "stream",
     "text": [
      "/kaggle/input/political-social-media-posts/political_social_media.csv\n"
     ]
    }
   ],
   "source": [
    "# This Python 3 environment comes with many helpful analytics libraries installed\n",
    "# It is defined by the kaggle/python Docker image: https://github.com/kaggle/docker-python\n",
    "# For example, here's several helpful packages to load\n",
    "\n",
    "import numpy as np # linear algebra\n",
    "import pandas as pd # data processing, CSV file I/O (e.g. pd.read_csv)\n",
    "\n",
    "# Input data files are available in the read-only \"../input/\" directory\n",
    "# For example, running this (by clicking run or pressing Shift+Enter) will list all files under the input directory\n",
    "\n",
    "import os\n",
    "for dirname, _, filenames in os.walk('/kaggle/input'):\n",
    "    for filename in filenames:\n",
    "        print(os.path.join(dirname, filename))\n",
    "\n",
    "# You can write up to 20GB to the current directory (/kaggle/working/) that gets preserved as output when you create a version using \"Save & Run All\" \n",
    "# You can also write temporary files to /kaggle/temp/, but they won't be saved outside of the current session"
   ]
  },
  {
   "cell_type": "code",
   "execution_count": 2,
   "id": "d6e2930f",
   "metadata": {
    "execution": {
     "iopub.execute_input": "2023-04-17T00:13:53.603109Z",
     "iopub.status.busy": "2023-04-17T00:13:53.602228Z",
     "iopub.status.idle": "2023-04-17T00:13:53.744053Z",
     "shell.execute_reply": "2023-04-17T00:13:53.742735Z"
    },
    "papermill": {
     "duration": 0.150154,
     "end_time": "2023-04-17T00:13:53.746753",
     "exception": false,
     "start_time": "2023-04-17T00:13:53.596599",
     "status": "completed"
    },
    "tags": []
   },
   "outputs": [
    {
     "data": {
      "text/html": [
       "<div>\n",
       "<style scoped>\n",
       "    .dataframe tbody tr th:only-of-type {\n",
       "        vertical-align: middle;\n",
       "    }\n",
       "\n",
       "    .dataframe tbody tr th {\n",
       "        vertical-align: top;\n",
       "    }\n",
       "\n",
       "    .dataframe thead th {\n",
       "        text-align: right;\n",
       "    }\n",
       "</style>\n",
       "<table border=\"1\" class=\"dataframe\">\n",
       "  <thead>\n",
       "    <tr style=\"text-align: right;\">\n",
       "      <th></th>\n",
       "      <th>bias</th>\n",
       "      <th>text</th>\n",
       "    </tr>\n",
       "  </thead>\n",
       "  <tbody>\n",
       "    <tr>\n",
       "      <th>0</th>\n",
       "      <td>bias</td>\n",
       "      <td>text</td>\n",
       "    </tr>\n",
       "    <tr>\n",
       "      <th>1</th>\n",
       "      <td>0</td>\n",
       "      <td>RT @nowthisnews: Rep. Trey Radel (R- #FL) slam...</td>\n",
       "    </tr>\n",
       "    <tr>\n",
       "      <th>2</th>\n",
       "      <td>0</td>\n",
       "      <td>VIDEO - #Obamacare:  Full of Higher Costs and ...</td>\n",
       "    </tr>\n",
       "    <tr>\n",
       "      <th>3</th>\n",
       "      <td>1</td>\n",
       "      <td>Please join me today in remembering our fallen...</td>\n",
       "    </tr>\n",
       "    <tr>\n",
       "      <th>4</th>\n",
       "      <td>1</td>\n",
       "      <td>RT @SenatorLeahy: 1st step toward Senate debat...</td>\n",
       "    </tr>\n",
       "  </tbody>\n",
       "</table>\n",
       "</div>"
      ],
      "text/plain": [
       "   bias                                               text\n",
       "0  bias                                               text\n",
       "1     0  RT @nowthisnews: Rep. Trey Radel (R- #FL) slam...\n",
       "2     0  VIDEO - #Obamacare:  Full of Higher Costs and ...\n",
       "3     1  Please join me today in remembering our fallen...\n",
       "4     1  RT @SenatorLeahy: 1st step toward Senate debat..."
      ]
     },
     "execution_count": 2,
     "metadata": {},
     "output_type": "execute_result"
    }
   ],
   "source": [
    "#read in the data and give labels 1 or 0 for partisan or neutral\n",
    "data = pd.read_csv('/kaggle/input/political-social-media-posts/political_social_media.csv', usecols=[7,20], names=['bias','text'], encoding='ISO-8859-1')\n",
    "data.loc[data['bias'] == 'neutral', 'bias'] = 1\n",
    "data.loc[data['bias'] == 'partisan', 'bias'] = 0\n",
    "data.head()"
   ]
  },
  {
   "cell_type": "code",
   "execution_count": 3,
   "id": "cd537bee",
   "metadata": {
    "execution": {
     "iopub.execute_input": "2023-04-17T00:13:53.757844Z",
     "iopub.status.busy": "2023-04-17T00:13:53.756656Z",
     "iopub.status.idle": "2023-04-17T00:13:53.820791Z",
     "shell.execute_reply": "2023-04-17T00:13:53.819335Z"
    },
    "papermill": {
     "duration": 0.072618,
     "end_time": "2023-04-17T00:13:53.823681",
     "exception": false,
     "start_time": "2023-04-17T00:13:53.751063",
     "status": "completed"
    },
    "tags": []
   },
   "outputs": [
    {
     "name": "stdout",
     "output_type": "stream",
     "text": [
      "['rt  rep trey radel r  slams   '\n",
      " 'video    full of higher costs and broken promises '\n",
      " 'please join me today in remembering our fallen heroes and honoring the men and women currently in military service for their sacrifices'\n",
      " ...\n",
      " 'taken from posted wokv interview   congressman yoho says the decision to release the detainees in exchange for a soldier the us military says walked away from his post in afghanistan was poor leadership he also believes it sets a bad precedent  our enemies dont fear or respect us and i think respect is the most important part here   '\n",
      " 'join me next week for a town hall in ocala ill be there to answer any questions you might have '\n",
      " 'foreign affairs committee hearing on syria i remain opposed to military intervention but am always willing to hear different points of view this hearing sheds some light on the refugee situation check it out here']\n",
      "[0 0 1 ... 1 1 1]\n"
     ]
    }
   ],
   "source": [
    "import re\n",
    "#preprocess the twitter data and remove all unecessary characters\n",
    "def preprocess_text(text):\n",
    "    # Remove URLs\n",
    "    text = re.sub(r'http\\S+', '', text)\n",
    "    \n",
    "    # Remove mentions\n",
    "    text = re.sub(r'@\\w+', '', text)\n",
    "    \n",
    "    # Remove hashtags\n",
    "    text = re.sub(r'#\\w+', '', text)\n",
    "    \n",
    "    # Remove special characters and digits\n",
    "    text = re.sub(r'[^a-zA-Z\\s]', '', text)\n",
    "    \n",
    "    # Convert to lowercase\n",
    "    text = text.lower()\n",
    "    \n",
    "    return text\n",
    "\n",
    "# Apply the preprocessing function to the 'text' column\n",
    "data['cleaned_text'] = data['text'].apply(preprocess_text)\n",
    "\n",
    "#turn the cleaned text into an array\n",
    "text = data['cleaned_text'].to_numpy()\n",
    "X = text[1:]\n",
    "\n",
    "#do the same for the y values (I had to use .values to get it to work for some reason)\n",
    "y = data['bias'].values\n",
    "y = y[1:]\n",
    "print(X)\n",
    "print(y)"
   ]
  },
  {
   "cell_type": "code",
   "execution_count": 4,
   "id": "8a54dbc4",
   "metadata": {
    "execution": {
     "iopub.execute_input": "2023-04-17T00:13:53.834224Z",
     "iopub.status.busy": "2023-04-17T00:13:53.833799Z",
     "iopub.status.idle": "2023-04-17T00:13:55.130374Z",
     "shell.execute_reply": "2023-04-17T00:13:55.129096Z"
    },
    "papermill": {
     "duration": 1.305369,
     "end_time": "2023-04-17T00:13:55.133280",
     "exception": false,
     "start_time": "2023-04-17T00:13:53.827911",
     "status": "completed"
    },
    "tags": []
   },
   "outputs": [],
   "source": [
    "from sklearn.feature_extraction.text import CountVectorizer\n",
    "from sklearn.model_selection import train_test_split\n",
    "\n",
    "# Split the dataset into train, validation, and test sets\n",
    "X_train, X_temp, y_train, y_temp = train_test_split(X, y, test_size=0.2, random_state=42)\n",
    "X_val, X_test, y_val, y_test = train_test_split(X_temp, y_temp, test_size=0.5, random_state=42)\n",
    "\n",
    "# Create the vectorizer\n",
    "cv = CountVectorizer()\n",
    "\n",
    "# Fit the vectorizer on the training data\n",
    "X_train_cv = cv.fit_transform(X_train)\n",
    "\n",
    "# Transform the validation and test data using the vectorizer\n",
    "X_val_cv = cv.transform(X_val)\n",
    "X_test_cv = cv.transform(X_test)\n",
    "\n",
    "y_train = np.array(y_train, dtype=int)\n",
    "y_test = np.array(y_test, dtype=int)\n"
   ]
  },
  {
   "cell_type": "code",
   "execution_count": 5,
   "id": "03d6ed00",
   "metadata": {
    "execution": {
     "iopub.execute_input": "2023-04-17T00:13:55.143483Z",
     "iopub.status.busy": "2023-04-17T00:13:55.143055Z",
     "iopub.status.idle": "2023-04-17T00:13:58.814692Z",
     "shell.execute_reply": "2023-04-17T00:13:58.812986Z"
    },
    "papermill": {
     "duration": 3.68016,
     "end_time": "2023-04-17T00:13:58.817712",
     "exception": false,
     "start_time": "2023-04-17T00:13:55.137552",
     "status": "completed"
    },
    "tags": []
   },
   "outputs": [
    {
     "name": "stdout",
     "output_type": "stream",
     "text": [
      "SVM accuracy: 0.7640\n"
     ]
    }
   ],
   "source": [
    "from sklearn.svm import SVC\n",
    "from sklearn.metrics import accuracy_score\n",
    "\n",
    "# Instantiate the SVM classifier\n",
    "svm_classifier = SVC()\n",
    "\n",
    "# Train the classifier\n",
    "svm_classifier.fit(X_train_cv, y_train)\n",
    "\n",
    "# Make predictions on the test set\n",
    "y_test_pred_svm = svm_classifier.predict(X_test_cv)\n",
    "\n",
    "# Calculate and report the accuracy\n",
    "svm_accuracy = accuracy_score(y_test, y_test_pred_svm)\n",
    "print(f\"SVM accuracy: {svm_accuracy:.4f}\")\n"
   ]
  },
  {
   "cell_type": "code",
   "execution_count": 6,
   "id": "bc72778d",
   "metadata": {
    "execution": {
     "iopub.execute_input": "2023-04-17T00:13:58.829037Z",
     "iopub.status.busy": "2023-04-17T00:13:58.828563Z",
     "iopub.status.idle": "2023-04-17T00:13:58.848885Z",
     "shell.execute_reply": "2023-04-17T00:13:58.847481Z"
    },
    "papermill": {
     "duration": 0.029116,
     "end_time": "2023-04-17T00:13:58.851507",
     "exception": false,
     "start_time": "2023-04-17T00:13:58.822391",
     "status": "completed"
    },
    "tags": []
   },
   "outputs": [
    {
     "name": "stdout",
     "output_type": "stream",
     "text": [
      "Naive Bayes accuracy: 0.7520\n"
     ]
    }
   ],
   "source": [
    "from sklearn.naive_bayes import MultinomialNB\n",
    "\n",
    "# Instantiate the Naive Bayes classifier\n",
    "nb_classifier = MultinomialNB()\n",
    "\n",
    "# Train the classifier\n",
    "nb_classifier.fit(X_train_cv, y_train)\n",
    "\n",
    "# Make predictions on the test set\n",
    "y_test_pred_nb = nb_classifier.predict(X_test_cv)\n",
    "\n",
    "# Calculate and report the accuracy\n",
    "nb_accuracy = accuracy_score(y_test, y_test_pred_nb)\n",
    "print(f\"Naive Bayes accuracy: {nb_accuracy:.4f}\")\n"
   ]
  },
  {
   "cell_type": "code",
   "execution_count": 7,
   "id": "01af15d9",
   "metadata": {
    "execution": {
     "iopub.execute_input": "2023-04-17T00:13:58.862252Z",
     "iopub.status.busy": "2023-04-17T00:13:58.861843Z",
     "iopub.status.idle": "2023-04-17T00:13:58.877955Z",
     "shell.execute_reply": "2023-04-17T00:13:58.876361Z"
    },
    "papermill": {
     "duration": 0.024771,
     "end_time": "2023-04-17T00:13:58.880811",
     "exception": false,
     "start_time": "2023-04-17T00:13:58.856040",
     "status": "completed"
    },
    "tags": []
   },
   "outputs": [
    {
     "name": "stdout",
     "output_type": "stream",
     "text": [
      "SVM Precision: 0.7695\n",
      "SVM Recall: 0.9842\n",
      "SVM F1-score: 0.8637\n",
      "\n",
      "Naive Bayes Precision: 0.8616\n",
      "Naive Bayes Recall: 0.8026\n",
      "Naive Bayes F1-score: 0.8311\n",
      "\n"
     ]
    }
   ],
   "source": [
    "#I just did this to take a look at some extra metrics, it looks like SVM is the best\n",
    "\n",
    "from sklearn.metrics import precision_score, recall_score, f1_score\n",
    "\n",
    "def print_metrics(y_true, y_pred, classifier_name):\n",
    "    precision = precision_score(y_true, y_pred)\n",
    "    recall = recall_score(y_true, y_pred)\n",
    "    f1 = f1_score(y_true, y_pred)\n",
    "    \n",
    "    print(f\"{classifier_name} Precision: {precision:.4f}\")\n",
    "    print(f\"{classifier_name} Recall: {recall:.4f}\")\n",
    "    print(f\"{classifier_name} F1-score: {f1:.4f}\")\n",
    "    print()\n",
    "\n",
    "# SVM Metrics\n",
    "print_metrics(y_test, y_test_pred_svm, \"SVM\")\n",
    "\n",
    "# Naive Bayes Metrics\n",
    "print_metrics(y_test, y_test_pred_nb, \"Naive Bayes\")"
   ]
  },
  {
   "cell_type": "markdown",
   "id": "944763c9",
   "metadata": {
    "papermill": {
     "duration": 0.004217,
     "end_time": "2023-04-17T00:13:58.889489",
     "exception": false,
     "start_time": "2023-04-17T00:13:58.885272",
     "status": "completed"
    },
    "tags": []
   },
   "source": [
    "**SVM (Support Vector Machine) - sklearn.svm.SVC**\n",
    "Hyperparameters:\n",
    "C: Regularization parameter, default=1.0\n",
    "kernel: Kernel type, default='rbf'\n",
    "gamma: Kernel coefficient, default='scale'\n",
    "\n",
    "**Naive Bayes - sklearn.naive_bayes.MultinomialNB**\n",
    "Hyperparameters:\n",
    "alpha: Additive (Laplace/Lidstone) smoothing parameter, default=1.0\n",
    "fit_prior: Whether to learn class prior probabilities, default=True\n",
    "class_prior: Prior probabilities of the classes, default=None"
   ]
  },
  {
   "cell_type": "code",
   "execution_count": 8,
   "id": "7ceb57cd",
   "metadata": {
    "execution": {
     "iopub.execute_input": "2023-04-17T00:13:58.900698Z",
     "iopub.status.busy": "2023-04-17T00:13:58.900288Z",
     "iopub.status.idle": "2023-04-17T00:16:36.695758Z",
     "shell.execute_reply": "2023-04-17T00:16:36.694547Z"
    },
    "papermill": {
     "duration": 157.805234,
     "end_time": "2023-04-17T00:16:36.699165",
     "exception": false,
     "start_time": "2023-04-17T00:13:58.893931",
     "status": "completed"
    },
    "tags": []
   },
   "outputs": [
    {
     "name": "stdout",
     "output_type": "stream",
     "text": [
      "Fitting 5 folds for each of 12 candidates, totalling 60 fits\n",
      "Best hyperparameters: {'C': 0.1, 'gamma': 'scale', 'kernel': 'linear'}\n",
      "Best validation accuracy: 0.745\n"
     ]
    }
   ],
   "source": [
    "from sklearn.model_selection import GridSearchCV\n",
    "from sklearn.svm import SVC\n",
    "\n",
    "# Define the hyperparameter grid\n",
    "param_grid = {'C': [0.1, 1, 10],\n",
    "              'kernel': ['linear', 'rbf'],\n",
    "              'gamma': ['scale', 'auto']}\n",
    "\n",
    "# Initialize the classifier\n",
    "svm = SVC()\n",
    "\n",
    "# Create a GridSearchCV object\n",
    "grid_search = GridSearchCV(svm, param_grid, scoring='accuracy', cv=5, verbose=1)\n",
    "\n",
    "# Fit the GridSearchCV object to the training data\n",
    "grid_search.fit(X_train_cv, y_train)\n",
    "\n",
    "# Get the best combination of hyperparameters\n",
    "best_params = grid_search.best_params_\n",
    "print(\"Best hyperparameters:\", best_params)\n",
    "\n",
    "# Get the prediction accuracy on the validation set\n",
    "best_val_accuracy = grid_search.best_score_\n",
    "print(\"Best validation accuracy:\", best_val_accuracy)\n"
   ]
  },
  {
   "cell_type": "code",
   "execution_count": 9,
   "id": "ac4f5419",
   "metadata": {
    "execution": {
     "iopub.execute_input": "2023-04-17T00:16:36.711223Z",
     "iopub.status.busy": "2023-04-17T00:16:36.710206Z",
     "iopub.status.idle": "2023-04-17T00:16:36.980287Z",
     "shell.execute_reply": "2023-04-17T00:16:36.978665Z"
    },
    "papermill": {
     "duration": 0.279209,
     "end_time": "2023-04-17T00:16:36.983207",
     "exception": false,
     "start_time": "2023-04-17T00:16:36.703998",
     "status": "completed"
    },
    "tags": []
   },
   "outputs": [
    {
     "name": "stdout",
     "output_type": "stream",
     "text": [
      "Best hyperparameters for Naive Bayes: {'alpha': 1, 'fit_prior': True}\n",
      "Accuracy on the test set with best hyperparameters for Naive Bayes: 0.7520\n"
     ]
    }
   ],
   "source": [
    "from sklearn.naive_bayes import MultinomialNB\n",
    "from sklearn.model_selection import GridSearchCV\n",
    "\n",
    "# Define the hyperparameters and their ranges\n",
    "hyperparameters_nb = {\n",
    "    'alpha': [0.001, 0.01, 0.1, 1, 10, 100],\n",
    "    'fit_prior': [True, False]\n",
    "}\n",
    "\n",
    "# Instantiate a Multinomial Naive Bayes classifier\n",
    "nb = MultinomialNB()\n",
    "\n",
    "# Create a GridSearchCV object and fit it to the training data\n",
    "nb_grid = GridSearchCV(nb, hyperparameters_nb, cv=5, scoring='accuracy')\n",
    "nb_grid.fit(X_train_cv, y_train)\n",
    "\n",
    "# Print the best hyperparameters\n",
    "print(\"Best hyperparameters for Naive Bayes:\", nb_grid.best_params_)\n",
    "\n",
    "# Print the accuracy score on the test set with the best hyperparameters\n",
    "nb_best = nb_grid.best_estimator_\n",
    "nb_best_pred = nb_best.predict(X_test_cv)\n",
    "nb_best_acc = accuracy_score(y_test, nb_best_pred)\n",
    "print(f\"Accuracy on the test set with best hyperparameters for Naive Bayes: {nb_best_acc:.4f}\")\n"
   ]
  },
  {
   "cell_type": "code",
   "execution_count": 10,
   "id": "6e09a116",
   "metadata": {
    "execution": {
     "iopub.execute_input": "2023-04-17T00:16:36.994505Z",
     "iopub.status.busy": "2023-04-17T00:16:36.994021Z",
     "iopub.status.idle": "2023-04-17T00:16:37.272923Z",
     "shell.execute_reply": "2023-04-17T00:16:37.271567Z"
    },
    "papermill": {
     "duration": 0.288322,
     "end_time": "2023-04-17T00:16:37.276285",
     "exception": false,
     "start_time": "2023-04-17T00:16:36.987963",
     "status": "completed"
    },
    "tags": []
   },
   "outputs": [
    {
     "data": {
      "image/png": "[encoded data removed]",
      "text/plain": [
       "<Figure size 640x480 with 1 Axes>"
      ]
     },
     "metadata": {},
     "output_type": "display_data"
    }
   ],
   "source": [
    "import matplotlib.pyplot as plt\n",
    "from sklearn.metrics import roc_curve, auc\n",
    "\n",
    "# Calculate ROC curve and AUC for SVM\n",
    "svm_fpr, svm_tpr, _ = roc_curve(y_test, y_test_pred_svm)\n",
    "svm_auc = auc(svm_fpr, svm_tpr)\n",
    "\n",
    "# Calculate ROC curve and AUC for Naive Bayes\n",
    "nb_fpr, nb_tpr, _ = roc_curve(y_test, y_test_pred_nb)\n",
    "nb_auc = auc(nb_fpr, nb_tpr)\n",
    "\n",
    "# Plot ROC curves\n",
    "plt.plot(svm_fpr, svm_tpr, color='darkorange', lw=2, label='SVM (AUC = %0.2f)' % svm_auc)\n",
    "plt.plot(nb_fpr, nb_tpr, color='navy', lw=2, label='Naive Bayes (AUC = %0.2f)' % nb_auc)\n",
    "plt.plot([0, 1], [0, 1], color='gray', lw=2, linestyle='--')\n",
    "plt.xlim([0.0, 1.0])\n",
    "plt.ylim([0.0, 1.05])\n",
    "plt.xlabel('False Positive Rate')\n",
    "plt.ylabel('True Positive Rate')\n",
    "plt.title('Receiver Operating Characteristic')\n",
    "plt.legend(loc=\"lower right\")\n",
    "plt.show()\n"
   ]
  },
  {
   "cell_type": "code",
   "execution_count": null,
   "id": "adc624aa",
   "metadata": {
    "papermill": {
     "duration": 0.00546,
     "end_time": "2023-04-17T00:16:37.287436",
     "exception": false,
     "start_time": "2023-04-17T00:16:37.281976",
     "status": "completed"
    },
    "tags": []
   },
   "outputs": [],
   "source": []
  }
 ],
 "metadata": {
  "kernelspec": {
   "display_name": "Python 3",
   "language": "python",
   "name": "python3"
  },
  "language_info": {
   "codemirror_mode": {
    "name": "ipython",
    "version": 3
   },
   "file_extension": ".py",
   "mimetype": "text/x-python",
   "name": "python",
   "nbconvert_exporter": "python",
   "pygments_lexer": "ipython3",
   "version": "3.7.12"
  },
  "papermill": {
   "default_parameters": {},
   "duration": 174.329289,
   "end_time": "2023-04-17T00:16:37.514574",
   "environment_variables": {},
   "exception": null,
   "input_path": "__notebook__.ipynb",
   "output_path": "__notebook__.ipynb",
   "parameters": {},
   "start_time": "2023-04-17T00:13:43.185285",
   "version": "2.4.0"
  }
 },
 "nbformat": 4,
 "nbformat_minor": 5
}
