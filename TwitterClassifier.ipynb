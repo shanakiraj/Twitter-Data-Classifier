{
  "metadata": {
    "kernelspec": {
      "language": "python",
      "display_name": "Python 3",
      "name": "python3"
    },
    "language_info": {
      "name": "python",
      "version": "3.7.12",
      "mimetype": "text/x-python",
      "codemirror_mode": {
        "name": "ipython",
        "version": 3
      },
      "pygments_lexer": "ipython3",
      "nbconvert_exporter": "python",
      "file_extension": ".py"
    },
    "colab": {
      "provenance": []
    }
  },
  "nbformat_minor": 0,
  "nbformat": 4,
  "cells": [
    {
      "cell_type": "code",
      "source": [
        "# This Python 3 environment comes with many helpful analytics libraries installed\n",
        "# It is defined by the kaggle/python Docker image: https://github.com/kaggle/docker-python\n",
        "# For example, here's several helpful packages to load\n",
        "\n",
        "import numpy as np # linear algebra\n",
        "import pandas as pd # data processing, CSV file I/O (e.g. pd.read_csv)\n",
        "\n",
        "# Input data files are available in the read-only \"../input/\" directory\n",
        "# For example, running this (by clicking run or pressing Shift+Enter) will list all files under the input directory\n",
        "\n",
        "import os\n",
        "for dirname, _, filenames in os.walk('/kaggle/input'):\n",
        "    for filename in filenames:\n",
        "        print(os.path.join(dirname, filename))\n",
        "\n",
        "# You can write up to 20GB to the current directory (/kaggle/working/) that gets preserved as output when you create a version using \"Save & Run All\" \n",
        "# You can also write temporary files to /kaggle/temp/, but they won't be saved outside of the current session"
      ],
      "metadata": {
        "_uuid": "8f2839f25d086af736a60e9eeb907d3b93b6e0e5",
        "_cell_guid": "b1076dfc-b9ad-4769-8c92-a6c4dae69d19",
        "execution": {
          "iopub.status.busy": "2023-04-13T22:04:48.286128Z",
          "iopub.execute_input": "2023-04-13T22:04:48.286578Z",
          "iopub.status.idle": "2023-04-13T22:04:48.298035Z",
          "shell.execute_reply.started": "2023-04-13T22:04:48.286542Z",
          "shell.execute_reply": "2023-04-13T22:04:48.297253Z"
        },
        "trusted": true,
        "id": "HxTW-O3rMGDK"
      },
      "execution_count": null,
      "outputs": []
    },
    {
      "cell_type": "code",
      "source": [
        "#read in the data and give labels 1 or 0 for partisan or neutral\n",
        "data = pd.read_csv('/kaggle/input/political-social-media-posts/political_social_media.csv', usecols=[7,20], names=['bias','text'], encoding='ISO-8859-1')\n",
        "data.loc[data['bias'] == 'neutral', 'bias'] = 1\n",
        "data.loc[data['bias'] == 'partisan', 'bias'] = 0\n",
        "data.head()"
      ],
      "metadata": {
        "execution": {
          "iopub.status.busy": "2023-04-13T22:04:49.462120Z",
          "iopub.execute_input": "2023-04-13T22:04:49.462506Z",
          "iopub.status.idle": "2023-04-13T22:04:49.576697Z",
          "shell.execute_reply.started": "2023-04-13T22:04:49.462472Z",
          "shell.execute_reply": "2023-04-13T22:04:49.576011Z"
        },
        "trusted": true,
        "id": "_RKv8tDoMGDO",
        "outputId": "91183ea0-ad4b-4e88-c13e-20aa9c28bbfe",
        "colab": {
          "base_uri": "https://localhost:8080/",
          "height": 409
        }
      },
      "execution_count": null,
      "outputs": [
        {
          "output_type": "error",
          "ename": "FileNotFoundError",
          "evalue": "ignored",
          "traceback": [
            "\u001b[0;31m---------------------------------------------------------------------------\u001b[0m",
            "\u001b[0;31mFileNotFoundError\u001b[0m                         Traceback (most recent call last)",
            "\u001b[0;32m<ipython-input-2-a21ea73f222b>\u001b[0m in \u001b[0;36m<cell line: 2>\u001b[0;34m()\u001b[0m\n\u001b[1;32m      1\u001b[0m \u001b[0;31m#read in the data and give labels 1 or 0 for partisan or neutral\u001b[0m\u001b[0;34m\u001b[0m\u001b[0;34m\u001b[0m\u001b[0m\n\u001b[0;32m----> 2\u001b[0;31m \u001b[0mdata\u001b[0m \u001b[0;34m=\u001b[0m \u001b[0mpd\u001b[0m\u001b[0;34m.\u001b[0m\u001b[0mread_csv\u001b[0m\u001b[0;34m(\u001b[0m\u001b[0;34m'/kaggle/input/political-social-media-posts/political_social_media.csv'\u001b[0m\u001b[0;34m,\u001b[0m \u001b[0musecols\u001b[0m\u001b[0;34m=\u001b[0m\u001b[0;34m[\u001b[0m\u001b[0;36m7\u001b[0m\u001b[0;34m,\u001b[0m\u001b[0;36m20\u001b[0m\u001b[0;34m]\u001b[0m\u001b[0;34m,\u001b[0m \u001b[0mnames\u001b[0m\u001b[0;34m=\u001b[0m\u001b[0;34m[\u001b[0m\u001b[0;34m'bias'\u001b[0m\u001b[0;34m,\u001b[0m\u001b[0;34m'text'\u001b[0m\u001b[0;34m]\u001b[0m\u001b[0;34m,\u001b[0m \u001b[0mencoding\u001b[0m\u001b[0;34m=\u001b[0m\u001b[0;34m'ISO-8859-1'\u001b[0m\u001b[0;34m)\u001b[0m\u001b[0;34m\u001b[0m\u001b[0;34m\u001b[0m\u001b[0m\n\u001b[0m\u001b[1;32m      3\u001b[0m \u001b[0mdata\u001b[0m\u001b[0;34m.\u001b[0m\u001b[0mloc\u001b[0m\u001b[0;34m[\u001b[0m\u001b[0mdata\u001b[0m\u001b[0;34m[\u001b[0m\u001b[0;34m'bias'\u001b[0m\u001b[0;34m]\u001b[0m \u001b[0;34m==\u001b[0m \u001b[0;34m'neutral'\u001b[0m\u001b[0;34m,\u001b[0m \u001b[0;34m'bias'\u001b[0m\u001b[0;34m]\u001b[0m \u001b[0;34m=\u001b[0m \u001b[0;36m1\u001b[0m\u001b[0;34m\u001b[0m\u001b[0;34m\u001b[0m\u001b[0m\n\u001b[1;32m      4\u001b[0m \u001b[0mdata\u001b[0m\u001b[0;34m.\u001b[0m\u001b[0mloc\u001b[0m\u001b[0;34m[\u001b[0m\u001b[0mdata\u001b[0m\u001b[0;34m[\u001b[0m\u001b[0;34m'bias'\u001b[0m\u001b[0;34m]\u001b[0m \u001b[0;34m==\u001b[0m \u001b[0;34m'partisan'\u001b[0m\u001b[0;34m,\u001b[0m \u001b[0;34m'bias'\u001b[0m\u001b[0;34m]\u001b[0m \u001b[0;34m=\u001b[0m \u001b[0;36m0\u001b[0m\u001b[0;34m\u001b[0m\u001b[0;34m\u001b[0m\u001b[0m\n\u001b[1;32m      5\u001b[0m \u001b[0mdata\u001b[0m\u001b[0;34m.\u001b[0m\u001b[0mhead\u001b[0m\u001b[0;34m(\u001b[0m\u001b[0;34m)\u001b[0m\u001b[0;34m\u001b[0m\u001b[0;34m\u001b[0m\u001b[0m\n",
            "\u001b[0;32m/usr/local/lib/python3.9/dist-packages/pandas/util/_decorators.py\u001b[0m in \u001b[0;36mwrapper\u001b[0;34m(*args, **kwargs)\u001b[0m\n\u001b[1;32m    209\u001b[0m                 \u001b[0;32melse\u001b[0m\u001b[0;34m:\u001b[0m\u001b[0;34m\u001b[0m\u001b[0;34m\u001b[0m\u001b[0m\n\u001b[1;32m    210\u001b[0m                     \u001b[0mkwargs\u001b[0m\u001b[0;34m[\u001b[0m\u001b[0mnew_arg_name\u001b[0m\u001b[0;34m]\u001b[0m \u001b[0;34m=\u001b[0m \u001b[0mnew_arg_value\u001b[0m\u001b[0;34m\u001b[0m\u001b[0;34m\u001b[0m\u001b[0m\n\u001b[0;32m--> 211\u001b[0;31m             \u001b[0;32mreturn\u001b[0m \u001b[0mfunc\u001b[0m\u001b[0;34m(\u001b[0m\u001b[0;34m*\u001b[0m\u001b[0margs\u001b[0m\u001b[0;34m,\u001b[0m \u001b[0;34m**\u001b[0m\u001b[0mkwargs\u001b[0m\u001b[0;34m)\u001b[0m\u001b[0;34m\u001b[0m\u001b[0;34m\u001b[0m\u001b[0m\n\u001b[0m\u001b[1;32m    212\u001b[0m \u001b[0;34m\u001b[0m\u001b[0m\n\u001b[1;32m    213\u001b[0m         \u001b[0;32mreturn\u001b[0m \u001b[0mcast\u001b[0m\u001b[0;34m(\u001b[0m\u001b[0mF\u001b[0m\u001b[0;34m,\u001b[0m \u001b[0mwrapper\u001b[0m\u001b[0;34m)\u001b[0m\u001b[0;34m\u001b[0m\u001b[0;34m\u001b[0m\u001b[0m\n",
            "\u001b[0;32m/usr/local/lib/python3.9/dist-packages/pandas/util/_decorators.py\u001b[0m in \u001b[0;36mwrapper\u001b[0;34m(*args, **kwargs)\u001b[0m\n\u001b[1;32m    329\u001b[0m                     \u001b[0mstacklevel\u001b[0m\u001b[0;34m=\u001b[0m\u001b[0mfind_stack_level\u001b[0m\u001b[0;34m(\u001b[0m\u001b[0;34m)\u001b[0m\u001b[0;34m,\u001b[0m\u001b[0;34m\u001b[0m\u001b[0;34m\u001b[0m\u001b[0m\n\u001b[1;32m    330\u001b[0m                 )\n\u001b[0;32m--> 331\u001b[0;31m             \u001b[0;32mreturn\u001b[0m \u001b[0mfunc\u001b[0m\u001b[0;34m(\u001b[0m\u001b[0;34m*\u001b[0m\u001b[0margs\u001b[0m\u001b[0;34m,\u001b[0m \u001b[0;34m**\u001b[0m\u001b[0mkwargs\u001b[0m\u001b[0;34m)\u001b[0m\u001b[0;34m\u001b[0m\u001b[0;34m\u001b[0m\u001b[0m\n\u001b[0m\u001b[1;32m    332\u001b[0m \u001b[0;34m\u001b[0m\u001b[0m\n\u001b[1;32m    333\u001b[0m         \u001b[0;31m# error: \"Callable[[VarArg(Any), KwArg(Any)], Any]\" has no\u001b[0m\u001b[0;34m\u001b[0m\u001b[0;34m\u001b[0m\u001b[0m\n",
            "\u001b[0;32m/usr/local/lib/python3.9/dist-packages/pandas/io/parsers/readers.py\u001b[0m in \u001b[0;36mread_csv\u001b[0;34m(filepath_or_buffer, sep, delimiter, header, names, index_col, usecols, squeeze, prefix, mangle_dupe_cols, dtype, engine, converters, true_values, false_values, skipinitialspace, skiprows, skipfooter, nrows, na_values, keep_default_na, na_filter, verbose, skip_blank_lines, parse_dates, infer_datetime_format, keep_date_col, date_parser, dayfirst, cache_dates, iterator, chunksize, compression, thousands, decimal, lineterminator, quotechar, quoting, doublequote, escapechar, comment, encoding, encoding_errors, dialect, error_bad_lines, warn_bad_lines, on_bad_lines, delim_whitespace, low_memory, memory_map, float_precision, storage_options)\u001b[0m\n\u001b[1;32m    948\u001b[0m     \u001b[0mkwds\u001b[0m\u001b[0;34m.\u001b[0m\u001b[0mupdate\u001b[0m\u001b[0;34m(\u001b[0m\u001b[0mkwds_defaults\u001b[0m\u001b[0;34m)\u001b[0m\u001b[0;34m\u001b[0m\u001b[0;34m\u001b[0m\u001b[0m\n\u001b[1;32m    949\u001b[0m \u001b[0;34m\u001b[0m\u001b[0m\n\u001b[0;32m--> 950\u001b[0;31m     \u001b[0;32mreturn\u001b[0m \u001b[0m_read\u001b[0m\u001b[0;34m(\u001b[0m\u001b[0mfilepath_or_buffer\u001b[0m\u001b[0;34m,\u001b[0m \u001b[0mkwds\u001b[0m\u001b[0;34m)\u001b[0m\u001b[0;34m\u001b[0m\u001b[0;34m\u001b[0m\u001b[0m\n\u001b[0m\u001b[1;32m    951\u001b[0m \u001b[0;34m\u001b[0m\u001b[0m\n\u001b[1;32m    952\u001b[0m \u001b[0;34m\u001b[0m\u001b[0m\n",
            "\u001b[0;32m/usr/local/lib/python3.9/dist-packages/pandas/io/parsers/readers.py\u001b[0m in \u001b[0;36m_read\u001b[0;34m(filepath_or_buffer, kwds)\u001b[0m\n\u001b[1;32m    603\u001b[0m \u001b[0;34m\u001b[0m\u001b[0m\n\u001b[1;32m    604\u001b[0m     \u001b[0;31m# Create the parser.\u001b[0m\u001b[0;34m\u001b[0m\u001b[0;34m\u001b[0m\u001b[0m\n\u001b[0;32m--> 605\u001b[0;31m     \u001b[0mparser\u001b[0m \u001b[0;34m=\u001b[0m \u001b[0mTextFileReader\u001b[0m\u001b[0;34m(\u001b[0m\u001b[0mfilepath_or_buffer\u001b[0m\u001b[0;34m,\u001b[0m \u001b[0;34m**\u001b[0m\u001b[0mkwds\u001b[0m\u001b[0;34m)\u001b[0m\u001b[0;34m\u001b[0m\u001b[0;34m\u001b[0m\u001b[0m\n\u001b[0m\u001b[1;32m    606\u001b[0m \u001b[0;34m\u001b[0m\u001b[0m\n\u001b[1;32m    607\u001b[0m     \u001b[0;32mif\u001b[0m \u001b[0mchunksize\u001b[0m \u001b[0;32mor\u001b[0m \u001b[0miterator\u001b[0m\u001b[0;34m:\u001b[0m\u001b[0;34m\u001b[0m\u001b[0;34m\u001b[0m\u001b[0m\n",
            "\u001b[0;32m/usr/local/lib/python3.9/dist-packages/pandas/io/parsers/readers.py\u001b[0m in \u001b[0;36m__init__\u001b[0;34m(self, f, engine, **kwds)\u001b[0m\n\u001b[1;32m   1440\u001b[0m \u001b[0;34m\u001b[0m\u001b[0m\n\u001b[1;32m   1441\u001b[0m         \u001b[0mself\u001b[0m\u001b[0;34m.\u001b[0m\u001b[0mhandles\u001b[0m\u001b[0;34m:\u001b[0m \u001b[0mIOHandles\u001b[0m \u001b[0;34m|\u001b[0m \u001b[0;32mNone\u001b[0m \u001b[0;34m=\u001b[0m \u001b[0;32mNone\u001b[0m\u001b[0;34m\u001b[0m\u001b[0;34m\u001b[0m\u001b[0m\n\u001b[0;32m-> 1442\u001b[0;31m         \u001b[0mself\u001b[0m\u001b[0;34m.\u001b[0m\u001b[0m_engine\u001b[0m \u001b[0;34m=\u001b[0m \u001b[0mself\u001b[0m\u001b[0;34m.\u001b[0m\u001b[0m_make_engine\u001b[0m\u001b[0;34m(\u001b[0m\u001b[0mf\u001b[0m\u001b[0;34m,\u001b[0m \u001b[0mself\u001b[0m\u001b[0;34m.\u001b[0m\u001b[0mengine\u001b[0m\u001b[0;34m)\u001b[0m\u001b[0;34m\u001b[0m\u001b[0;34m\u001b[0m\u001b[0m\n\u001b[0m\u001b[1;32m   1443\u001b[0m \u001b[0;34m\u001b[0m\u001b[0m\n\u001b[1;32m   1444\u001b[0m     \u001b[0;32mdef\u001b[0m \u001b[0mclose\u001b[0m\u001b[0;34m(\u001b[0m\u001b[0mself\u001b[0m\u001b[0;34m)\u001b[0m \u001b[0;34m->\u001b[0m \u001b[0;32mNone\u001b[0m\u001b[0;34m:\u001b[0m\u001b[0;34m\u001b[0m\u001b[0;34m\u001b[0m\u001b[0m\n",
            "\u001b[0;32m/usr/local/lib/python3.9/dist-packages/pandas/io/parsers/readers.py\u001b[0m in \u001b[0;36m_make_engine\u001b[0;34m(self, f, engine)\u001b[0m\n\u001b[1;32m   1733\u001b[0m                 \u001b[0;32mif\u001b[0m \u001b[0;34m\"b\"\u001b[0m \u001b[0;32mnot\u001b[0m \u001b[0;32min\u001b[0m \u001b[0mmode\u001b[0m\u001b[0;34m:\u001b[0m\u001b[0;34m\u001b[0m\u001b[0;34m\u001b[0m\u001b[0m\n\u001b[1;32m   1734\u001b[0m                     \u001b[0mmode\u001b[0m \u001b[0;34m+=\u001b[0m \u001b[0;34m\"b\"\u001b[0m\u001b[0;34m\u001b[0m\u001b[0;34m\u001b[0m\u001b[0m\n\u001b[0;32m-> 1735\u001b[0;31m             self.handles = get_handle(\n\u001b[0m\u001b[1;32m   1736\u001b[0m                 \u001b[0mf\u001b[0m\u001b[0;34m,\u001b[0m\u001b[0;34m\u001b[0m\u001b[0;34m\u001b[0m\u001b[0m\n\u001b[1;32m   1737\u001b[0m                 \u001b[0mmode\u001b[0m\u001b[0;34m,\u001b[0m\u001b[0;34m\u001b[0m\u001b[0;34m\u001b[0m\u001b[0m\n",
            "\u001b[0;32m/usr/local/lib/python3.9/dist-packages/pandas/io/common.py\u001b[0m in \u001b[0;36mget_handle\u001b[0;34m(path_or_buf, mode, encoding, compression, memory_map, is_text, errors, storage_options)\u001b[0m\n\u001b[1;32m    854\u001b[0m         \u001b[0;32mif\u001b[0m \u001b[0mioargs\u001b[0m\u001b[0;34m.\u001b[0m\u001b[0mencoding\u001b[0m \u001b[0;32mand\u001b[0m \u001b[0;34m\"b\"\u001b[0m \u001b[0;32mnot\u001b[0m \u001b[0;32min\u001b[0m \u001b[0mioargs\u001b[0m\u001b[0;34m.\u001b[0m\u001b[0mmode\u001b[0m\u001b[0;34m:\u001b[0m\u001b[0;34m\u001b[0m\u001b[0;34m\u001b[0m\u001b[0m\n\u001b[1;32m    855\u001b[0m             \u001b[0;31m# Encoding\u001b[0m\u001b[0;34m\u001b[0m\u001b[0;34m\u001b[0m\u001b[0m\n\u001b[0;32m--> 856\u001b[0;31m             handle = open(\n\u001b[0m\u001b[1;32m    857\u001b[0m                 \u001b[0mhandle\u001b[0m\u001b[0;34m,\u001b[0m\u001b[0;34m\u001b[0m\u001b[0;34m\u001b[0m\u001b[0m\n\u001b[1;32m    858\u001b[0m                 \u001b[0mioargs\u001b[0m\u001b[0;34m.\u001b[0m\u001b[0mmode\u001b[0m\u001b[0;34m,\u001b[0m\u001b[0;34m\u001b[0m\u001b[0;34m\u001b[0m\u001b[0m\n",
            "\u001b[0;31mFileNotFoundError\u001b[0m: [Errno 2] No such file or directory: '/kaggle/input/political-social-media-posts/political_social_media.csv'"
          ]
        }
      ]
    },
    {
      "cell_type": "code",
      "source": [
        "import re\n",
        "#preprocess the twitter data and remove all unecessary characters\n",
        "def preprocess_text(text):\n",
        "    # Remove URLs\n",
        "    text = re.sub(r'http\\S+', '', text)\n",
        "    \n",
        "    # Remove mentions\n",
        "    text = re.sub(r'@\\w+', '', text)\n",
        "    \n",
        "    # Remove hashtags\n",
        "    text = re.sub(r'#\\w+', '', text)\n",
        "    \n",
        "    # Remove special characters and digits\n",
        "    text = re.sub(r'[^a-zA-Z\\s]', '', text)\n",
        "    \n",
        "    # Convert to lowercase\n",
        "    text = text.lower()\n",
        "    \n",
        "    return text\n",
        "\n",
        "# Apply the preprocessing function to the 'text' column\n",
        "data['cleaned_text'] = data['text'].apply(preprocess_text)\n",
        "\n",
        "#turn the cleaned text into an array\n",
        "text = data['cleaned_text'].to_numpy()\n",
        "X = text[1:]\n",
        "\n",
        "#do the same for the y values (I had to use .values to get it to work for some reason)\n",
        "y = data['bias'].values\n",
        "y = y[1:]"
      ],
      "metadata": {
        "execution": {
          "iopub.status.busy": "2023-04-13T22:17:16.879406Z",
          "iopub.execute_input": "2023-04-13T22:17:16.879910Z",
          "iopub.status.idle": "2023-04-13T22:17:16.933857Z",
          "shell.execute_reply.started": "2023-04-13T22:17:16.879862Z",
          "shell.execute_reply": "2023-04-13T22:17:16.932902Z"
        },
        "trusted": true,
        "id": "U42HecSjMGDQ"
      },
      "execution_count": null,
      "outputs": []
    },
    {
      "cell_type": "markdown",
      "source": [],
      "metadata": {
        "id": "rf-Y1S3iMGDR"
      }
    },
    {
      "cell_type": "code",
      "source": [
        "from sklearn.feature_extraction.text import CountVectorizer\n",
        "from sklearn.model_selection import train_test_split\n",
        "\n",
        "# Split the dataset into train, validation, and test sets\n",
        "X_train, X_temp, y_train, y_temp = train_test_split(X, y, test_size=0.2, random_state=42)\n",
        "X_val, X_test, y_val, y_test = train_test_split(X_temp, y_temp, test_size=0.5, random_state=42)\n",
        "\n",
        "# Create the vectorizer\n",
        "cv = CountVectorizer()\n",
        "\n",
        "# Fit the vectorizer on the training data\n",
        "X_train_cv = cv.fit_transform(X_train)\n",
        "\n",
        "# Transform the validation and test data using the vectorizer\n",
        "X_val_cv = cv.transform(X_val)\n",
        "X_test_cv = cv.transform(X_test)\n",
        "\n",
        "y_train = np.array(y_train, dtype=int)\n",
        "y_test = np.array(y_test, dtype=int)"
      ],
      "metadata": {
        "execution": {
          "iopub.status.busy": "2023-04-13T22:05:14.338405Z",
          "iopub.execute_input": "2023-04-13T22:05:14.338781Z",
          "iopub.status.idle": "2023-04-13T22:05:14.494387Z",
          "shell.execute_reply.started": "2023-04-13T22:05:14.338745Z",
          "shell.execute_reply": "2023-04-13T22:05:14.493314Z"
        },
        "trusted": true,
        "id": "E5z7Xu0dMGDS"
      },
      "execution_count": null,
      "outputs": []
    },
    {
      "cell_type": "code",
      "source": [
        "from sklearn.svm import SVC\n",
        "\n",
        "# Instantiate the SVM classifier\n",
        "svm_classifier = SVC()\n",
        "\n",
        "# Train the classifier\n",
        "svm_classifier.fit(X_train_cv, y_train)\n",
        "\n",
        "# Make predictions on the test set\n",
        "y_test_pred_svm = svm_classifier.predict(X_test_cv)\n",
        "\n",
        "# Calculate and report the accuracy\n",
        "svm_accuracy = accuracy_score(y_test, y_test_pred_svm)\n",
        "print(f\"SVM accuracy: {svm_accuracy:.4f}\")\n"
      ],
      "metadata": {
        "execution": {
          "iopub.status.busy": "2023-04-13T22:11:40.899463Z",
          "iopub.execute_input": "2023-04-13T22:11:40.899830Z",
          "iopub.status.idle": "2023-04-13T22:11:43.347349Z",
          "shell.execute_reply.started": "2023-04-13T22:11:40.899798Z",
          "shell.execute_reply": "2023-04-13T22:11:43.345877Z"
        },
        "trusted": true,
        "id": "kLbg_blgMGDT",
        "outputId": "1f9504c3-91f4-434c-f3d8-d89a3990b2ba"
      },
      "execution_count": null,
      "outputs": [
        {
          "name": "stdout",
          "text": "SVM accuracy: 0.7640\n",
          "output_type": "stream"
        }
      ]
    },
    {
      "cell_type": "code",
      "source": [
        "from sklearn.naive_bayes import MultinomialNB\n",
        "\n",
        "# Instantiate the Naive Bayes classifier\n",
        "nb_classifier = MultinomialNB()\n",
        "\n",
        "# Train the classifier\n",
        "nb_classifier.fit(X_train_cv, y_train)\n",
        "\n",
        "# Make predictions on the test set\n",
        "y_test_pred_nb = nb_classifier.predict(X_test_cv)\n",
        "\n",
        "# Calculate and report the accuracy\n",
        "nb_accuracy = accuracy_score(y_test, y_test_pred_nb)\n",
        "print(f\"Naive Bayes accuracy: {nb_accuracy:.4f}\")\n"
      ],
      "metadata": {
        "execution": {
          "iopub.status.busy": "2023-04-13T22:11:45.939597Z",
          "iopub.execute_input": "2023-04-13T22:11:45.939949Z",
          "iopub.status.idle": "2023-04-13T22:11:45.950543Z",
          "shell.execute_reply.started": "2023-04-13T22:11:45.939918Z",
          "shell.execute_reply": "2023-04-13T22:11:45.949211Z"
        },
        "trusted": true,
        "id": "CqvWDQbiMGDV",
        "outputId": "1e396534-7029-46f2-f13d-06e7ef897aec"
      },
      "execution_count": null,
      "outputs": [
        {
          "name": "stdout",
          "text": "Naive Bayes accuracy: 0.7520\n",
          "output_type": "stream"
        }
      ]
    },
    {
      "cell_type": "code",
      "source": [
        "#I just did this to take a look at some extra metrics, it looks like SVM is the best\n",
        "\n",
        "from sklearn.metrics import precision_score, recall_score, f1_score\n",
        "\n",
        "def print_metrics(y_true, y_pred, classifier_name):\n",
        "    precision = precision_score(y_true, y_pred)\n",
        "    recall = recall_score(y_true, y_pred)\n",
        "    f1 = f1_score(y_true, y_pred)\n",
        "    \n",
        "    print(f\"{classifier_name} Precision: {precision:.4f}\")\n",
        "    print(f\"{classifier_name} Recall: {recall:.4f}\")\n",
        "    print(f\"{classifier_name} F1-score: {f1:.4f}\")\n",
        "    print()\n",
        "\n",
        "# SVM Metrics\n",
        "print_metrics(y_test, y_test_pred_svm, \"SVM\")\n",
        "\n",
        "# Naive Bayes Metrics\n",
        "print_metrics(y_test, y_test_pred_nb, \"Naive Bayes\")"
      ],
      "metadata": {
        "execution": {
          "iopub.status.busy": "2023-04-13T22:19:14.175321Z",
          "iopub.execute_input": "2023-04-13T22:19:14.175694Z",
          "iopub.status.idle": "2023-04-13T22:19:14.188381Z",
          "shell.execute_reply.started": "2023-04-13T22:19:14.175663Z",
          "shell.execute_reply": "2023-04-13T22:19:14.187260Z"
        },
        "trusted": true,
        "id": "PI9OzhmuMGDW",
        "outputId": "e2957719-901e-4678-c7ce-7b4e4a65216c"
      },
      "execution_count": null,
      "outputs": [
        {
          "name": "stdout",
          "text": "SVM Precision: 0.7695\nSVM Recall: 0.9842\nSVM F1-score: 0.8637\n\nNaive Bayes Precision: 0.8616\nNaive Bayes Recall: 0.8026\nNaive Bayes F1-score: 0.8311\n\n",
          "output_type": "stream"
        }
      ]
    },
    {
      "cell_type": "markdown",
      "source": [
        "**SVM (Support Vector Machine) - sklearn.svm.SVC**\n",
        "Hyperparameters:\n",
        "C: Regularization parameter, default=1.0\n",
        "kernel: Kernel type, default='rbf'\n",
        "gamma: Kernel coefficient, default='scale'\n",
        "\n",
        "**Naive Bayes - sklearn.naive_bayes.MultinomialNB**\n",
        "Hyperparameters:\n",
        "alpha: Additive (Laplace/Lidstone) smoothing parameter, default=1.0\n",
        "fit_prior: Whether to learn class prior probabilities, default=True\n",
        "class_prior: Prior probabilities of the classes, default=None"
      ],
      "metadata": {
        "id": "KAretV05MGDX"
      }
    },
    {
      "cell_type": "code",
      "source": [
        "#This one takes a minute to run because svm is slow\n",
        "\n",
        "from sklearn.model_selection import GridSearchCV\n",
        "from sklearn.svm import SVC\n",
        "\n",
        "# Define the hyperparameter grid\n",
        "param_grid = {'C': [0.1, 1, 10],\n",
        "              'kernel': ['linear', 'rbf'],\n",
        "              'gamma': ['scale', 'auto']}\n",
        "\n",
        "# Initialize the classifier\n",
        "svm = SVC()\n",
        "\n",
        "# Create a GridSearchCV object\n",
        "grid_search = GridSearchCV(svm, param_grid, scoring='accuracy', cv=5, verbose=1)\n",
        "\n",
        "# Fit the GridSearchCV object to the training data\n",
        "grid_search.fit(X_train_cv, y_train)\n",
        "\n",
        "# Get the best combination of hyperparameters\n",
        "best_params = grid_search.best_params_\n",
        "print(\"Best hyperparameters:\", best_params)\n",
        "\n",
        "# Get the prediction accuracy on the validation set\n",
        "best_val_accuracy = grid_search.best_score_\n",
        "print(\"Best validation accuracy:\", best_val_accuracy)\n"
      ],
      "metadata": {
        "execution": {
          "iopub.status.busy": "2023-04-13T22:11:51.212249Z",
          "iopub.execute_input": "2023-04-13T22:11:51.212593Z",
          "iopub.status.idle": "2023-04-13T22:13:40.493824Z",
          "shell.execute_reply.started": "2023-04-13T22:11:51.212563Z",
          "shell.execute_reply": "2023-04-13T22:13:40.491701Z"
        },
        "trusted": true,
        "id": "eBsvBD1sMGDY",
        "outputId": "0c74a39d-8b8c-49eb-d370-2d80129b864b"
      },
      "execution_count": null,
      "outputs": [
        {
          "name": "stdout",
          "text": "Fitting 5 folds for each of 12 candidates, totalling 60 fits\nBest hyperparameters: {'C': 0.1, 'gamma': 'scale', 'kernel': 'linear'}\nBest validation accuracy: 0.745\n",
          "output_type": "stream"
        }
      ]
    },
    {
      "cell_type": "code",
      "source": [
        "from sklearn.naive_bayes import MultinomialNB\n",
        "from sklearn.model_selection import GridSearchCV\n",
        "\n",
        "# Define the hyperparameters and their ranges\n",
        "hyperparameters_nb = {\n",
        "    'alpha': [0.001, 0.01, 0.1, 1, 10, 100],\n",
        "    'fit_prior': [True, False]\n",
        "}\n",
        "\n",
        "# Instantiate a Multinomial Naive Bayes classifier\n",
        "nb = MultinomialNB()\n",
        "\n",
        "# Create a GridSearchCV object and fit it to the training data\n",
        "nb_grid = GridSearchCV(nb, hyperparameters_nb, cv=5, scoring='accuracy')\n",
        "nb_grid.fit(X_train_cv, y_train)\n",
        "\n",
        "# Print the best hyperparameters\n",
        "print(\"Best hyperparameters for Naive Bayes:\", nb_grid.best_params_)\n",
        "\n",
        "# Print the accuracy score on the test set with the best hyperparameters\n",
        "nb_best = nb_grid.best_estimator_\n",
        "nb_best_pred = nb_best.predict(X_test_cv)\n",
        "nb_best_acc = accuracy_score(y_test, nb_best_pred)\n",
        "print(f\"Accuracy on the test set with best hyperparameters for Naive Bayes: {nb_best_acc:.4f}\")\n"
      ],
      "metadata": {
        "execution": {
          "iopub.status.busy": "2023-04-13T22:10:34.753132Z",
          "iopub.execute_input": "2023-04-13T22:10:34.753827Z",
          "iopub.status.idle": "2023-04-13T22:10:34.960190Z",
          "shell.execute_reply.started": "2023-04-13T22:10:34.753765Z",
          "shell.execute_reply": "2023-04-13T22:10:34.959023Z"
        },
        "trusted": true,
        "id": "UjHa4PpVMGDa",
        "outputId": "1282e7f1-2190-4f7e-b071-574bb0896bf5"
      },
      "execution_count": null,
      "outputs": [
        {
          "name": "stdout",
          "text": "Best hyperparameters for Naive Bayes: {'alpha': 1, 'fit_prior': True}\nAccuracy on the test set with best hyperparameters for Naive Bayes: 0.7520\n",
          "output_type": "stream"
        }
      ]
    },
    {
      "cell_type": "code",
      "source": [],
      "metadata": {
        "id": "7YUiUBE-MGDb"
      },
      "execution_count": null,
      "outputs": []
    }
  ]
}